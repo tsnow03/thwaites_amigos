{
 "cells": [
  {
   "cell_type": "code",
   "execution_count": 3,
   "metadata": {},
   "outputs": [
    {
     "name": "stdout",
     "output_type": "stream",
     "text": [
      "[Errno 2] No such file or directory: '/Landsat_SST_algorithm/Data/ERA5_atmprofiles'\n",
      "/home/jovyan/Landsat_SST_algorithm/Data/ERA5_atmprofiles\n"
     ]
    }
   ],
   "source": [
    "cd ~/Landsat_SST_algorithm/Data/ERA5_atmprofiles"
   ]
  },
  {
   "cell_type": "code",
   "execution_count": null,
   "metadata": {
    "tags": []
   },
   "outputs": [],
   "source": [
    "%pip install ecmwf-api-client\n",
    "%pip install cdsapi"
   ]
  },
  {
   "cell_type": "code",
   "execution_count": 3,
   "metadata": {},
   "outputs": [],
   "source": [
    "# Need a .cdsapi file with 2 lines added to it to make this work, can use this code with your unique uid:api-key to create the file\n",
    "# !echo url: https://cds.climate.copernicus.eu/api/v2 >> /home/jovyan/.cdsapirc\n",
    "# !echo key: {uid}:{api-key} >> /home/jovyan/.cdsapirc"
   ]
  },
  {
   "cell_type": "code",
   "execution_count": 4,
   "metadata": {
    "tags": []
   },
   "outputs": [],
   "source": [
    "import calendar\n",
    "from ecmwfapi import ECMWFDataServer # Need a ecmwf user name and password first\n",
    "import cdsapi "
   ]
  },
  {
   "cell_type": "code",
   "execution_count": null,
   "metadata": {},
   "outputs": [],
   "source": [
    "# Download ERA-5 atmospheric profiles for all levels through new portal \n",
    "# To get script, use https://cds.climate.copernicus.eu/cdsapp#!/dataset/reanalysis-era5-single-levels?tab=form\n",
    "\n",
    "c = cdsapi.Client()\n",
    "\n",
    "def retrieve_era5():\n",
    "    \"\"\"      \n",
    "       A function to demonstrate how to iterate efficiently over several years and months etc    \n",
    "       for a particular interim_request.     \n",
    "       Change the variables below to adapt the iteration to your needs.\n",
    "       You can use the variable 'target' to organise the requested data in files as you wish.\n",
    "       In the example below the data are organised in files per month. (eg \"interim_daily_201510.grb\")\n",
    "    \"\"\"\n",
    "    yearStart = 2021\n",
    "    yearEnd = 2022\n",
    "    month = [1, 2, 3, 4, 5, 6, 7, 8, 9, 10, 11, 12]\n",
    "    for year in list(range(yearStart, yearEnd + 1)):\n",
    "        for month in list(month):\n",
    "            startMo = '%02d' % (month)\n",
    "            startYr = '%04d' % (year)\n",
    "            target = \"era5_daily_%04d%02d.nc\" % (year, month)\n",
    "            era5_request(startYr, startMo, target)\n",
    "\n",
    "def era5_request(startYr, startMo, target):\n",
    "    \"\"\"      \n",
    "        An ERA-5 request for analysis pressure level data.\n",
    "        Change the keywords below to adapt it to your needs.\n",
    "        (eg to add or to remove  levels, parameters, times etc)\n",
    "        Request cost per day is 112 fields, 14.2326 Mbytes\n",
    "    \"\"\"\n",
    "    c.retrieve(\n",
    "    'reanalysis-era5-pressure-levels',\n",
    "    {\n",
    "        'product_type':'reanalysis',\n",
    "        'format':'netcdf',\n",
    "        'variable':['specific_humidity', 'temperature'],\n",
    "        'year':[startYr],\n",
    "        'month':[startMo],\n",
    "        'day':['01','07','15','23'],\n",
    "        'pressure_level': ['1', '2', '3',\n",
    "            '5', '7', '10',\n",
    "            '20', '30', '50',\n",
    "            '70', '100', '125',\n",
    "            '150', '175', '200',\n",
    "            '225', '250', '300',\n",
    "            '350', '400', '450',\n",
    "            '500', '550', '600',\n",
    "            '650', '700', '750',\n",
    "            '775', '800', '825',\n",
    "            '850', '875', '900',\n",
    "            '925', '950', '975',\n",
    "            '1000'],\n",
    "        'time':['00:00','06:00','12:00','18:00'],\n",
    "        \"grid\":['0.5/0.5'],\n",
    "        # \"area\":['-75.5/-120/-65/-100'] #All of Greenland, ULY,ULX,LRY,LRX\n",
    "        \"area\":['-75.5/-120/-65/-100'] #All of Amundsen Sea  \n",
    "    },\n",
    "    target)\n",
    "        \n",
    "if __name__ == '__main__':\n",
    "    retrieve_era5()\n",
    "\n"
   ]
  },
  {
   "cell_type": "code",
   "execution_count": null,
   "metadata": {},
   "outputs": [],
   "source": [
    "# Download ERA-5 sea surface temperature through new portal \n",
    "# To get script, use https://cds.climate.copernicus.eu/cdsapp#!/dataset/reanalysis-era5-single-levels?tab=form\n",
    "\n",
    "c = cdsapi.Client()\n",
    "\n",
    "def retrieve_era5():\n",
    "    \"\"\"      \n",
    "       A function to demonstrate how to iterate efficiently over several years and months etc    \n",
    "       for a particular interim_request.     \n",
    "       Change the variables below to adapt the iteration to your needs.\n",
    "       You can use the variable 'target' to organise the requested data in files as you wish.\n",
    "       In the example below the data are organised in files per month. (eg \"interim_daily_201510.grb\")\n",
    "    \"\"\"\n",
    "    yearStart = 2020\n",
    "    yearEnd = 2021\n",
    "    monthStart = 1\n",
    "    monthEnd = 12\n",
    "    for year in list(range(yearStart, yearEnd + 1)):\n",
    "        for month in list(range(monthStart, monthEnd + 1)):\n",
    "            startMo = '%02d' % (month)\n",
    "            startYr = '%04d' % (year)\n",
    "            target = \"era5_SST_%04d%02d.nc\" % (year, month)\n",
    "            era5_request(startYr, startMo, target)\n",
    "\n",
    "def era5_request(startYr, startMo, target):\n",
    "    \"\"\"      \n",
    "        An ERA-5 request for analysis pressure level data.\n",
    "        Change the keywords below to adapt it to your needs.\n",
    "        (eg to add or to remove  levels, parameters, times etc)\n",
    "        Request cost per day is 112 fields, 14.2326 Mbytes\n",
    "    \"\"\"\n",
    "    c.retrieve(\n",
    "    'reanalysis-era5-single-levels',\n",
    "    {\n",
    "        'product_type':'reanalysis',\n",
    "        'format':'netcdf',\n",
    "        'variable':['sea_surface_temperature'],\n",
    "        'year':[startYr],\n",
    "        'month':[startMo],\n",
    "        'day':['01','07','15','23'],\n",
    "        'time':['00:00','06:00','12:00','18:00'],\n",
    "        \"grid\":['0.5/0.5'],\n",
    "        # \"area\":['83/-70/58/-15'] #All of Greenland, ULY,ULX,LRY,LRX\n",
    "        \"area\":['-75.5/-120/-65/-100'] #All of Amundsen Sea  \n",
    "    },\n",
    "    target)\n",
    "        \n",
    "if __name__ == '__main__':\n",
    "    retrieve_era5()\n",
    "\n"
   ]
  }
 ],
 "metadata": {
  "kernelspec": {
   "display_name": "Python 3 (ipykernel)",
   "language": "python",
   "name": "python3"
  },
  "language_info": {
   "codemirror_mode": {
    "name": "ipython",
    "version": 3
   },
   "file_extension": ".py",
   "mimetype": "text/x-python",
   "name": "python",
   "nbconvert_exporter": "python",
   "pygments_lexer": "ipython3",
   "version": "3.10.12"
  }
 },
 "nbformat": 4,
 "nbformat_minor": 4
}
